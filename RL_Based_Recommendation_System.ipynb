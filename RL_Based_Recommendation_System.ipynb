{
  "nbformat": 4,
  "nbformat_minor": 0,
  "metadata": {
    "colab": {
      "provenance": []
    },
    "kernelspec": {
      "name": "python3",
      "display_name": "Python 3"
    },
    "language_info": {
      "name": "python"
    },
    "widgets": {
      "application/vnd.jupyter.widget-state+json": {
        "643792eb3d2f4ecf85d31699ca7dc8bd": {
          "model_module": "@jupyter-widgets/controls",
          "model_name": "IntTextModel",
          "model_module_version": "1.5.0",
          "state": {
            "_dom_classes": [],
            "_model_module": "@jupyter-widgets/controls",
            "_model_module_version": "1.5.0",
            "_model_name": "IntTextModel",
            "_view_count": null,
            "_view_module": "@jupyter-widgets/controls",
            "_view_module_version": "1.5.0",
            "_view_name": "IntTextView",
            "continuous_update": false,
            "description": "User ID:",
            "description_tooltip": null,
            "disabled": false,
            "layout": "IPY_MODEL_af8e3096e11245d0a9abe3ba08c60e71",
            "step": 1,
            "style": "IPY_MODEL_ff0357cde012433bad5088950441a5ef",
            "value": 210
          }
        },
        "af8e3096e11245d0a9abe3ba08c60e71": {
          "model_module": "@jupyter-widgets/base",
          "model_name": "LayoutModel",
          "model_module_version": "1.2.0",
          "state": {
            "_model_module": "@jupyter-widgets/base",
            "_model_module_version": "1.2.0",
            "_model_name": "LayoutModel",
            "_view_count": null,
            "_view_module": "@jupyter-widgets/base",
            "_view_module_version": "1.2.0",
            "_view_name": "LayoutView",
            "align_content": null,
            "align_items": null,
            "align_self": null,
            "border": null,
            "bottom": null,
            "display": null,
            "flex": null,
            "flex_flow": null,
            "grid_area": null,
            "grid_auto_columns": null,
            "grid_auto_flow": null,
            "grid_auto_rows": null,
            "grid_column": null,
            "grid_gap": null,
            "grid_row": null,
            "grid_template_areas": null,
            "grid_template_columns": null,
            "grid_template_rows": null,
            "height": null,
            "justify_content": null,
            "justify_items": null,
            "left": null,
            "margin": null,
            "max_height": null,
            "max_width": null,
            "min_height": null,
            "min_width": null,
            "object_fit": null,
            "object_position": null,
            "order": null,
            "overflow": null,
            "overflow_x": null,
            "overflow_y": null,
            "padding": null,
            "right": null,
            "top": null,
            "visibility": null,
            "width": null
          }
        },
        "ff0357cde012433bad5088950441a5ef": {
          "model_module": "@jupyter-widgets/controls",
          "model_name": "DescriptionStyleModel",
          "model_module_version": "1.5.0",
          "state": {
            "_model_module": "@jupyter-widgets/controls",
            "_model_module_version": "1.5.0",
            "_model_name": "DescriptionStyleModel",
            "_view_count": null,
            "_view_module": "@jupyter-widgets/base",
            "_view_module_version": "1.2.0",
            "_view_name": "StyleView",
            "description_width": ""
          }
        },
        "1cbadc1c05ce47fda2884202c788b9c3": {
          "model_module": "@jupyter-widgets/controls",
          "model_name": "ButtonModel",
          "model_module_version": "1.5.0",
          "state": {
            "_dom_classes": [],
            "_model_module": "@jupyter-widgets/controls",
            "_model_module_version": "1.5.0",
            "_model_name": "ButtonModel",
            "_view_count": null,
            "_view_module": "@jupyter-widgets/controls",
            "_view_module_version": "1.5.0",
            "_view_name": "ButtonView",
            "button_style": "",
            "description": "Get Recommendations",
            "disabled": false,
            "icon": "",
            "layout": "IPY_MODEL_452139bd647b43c28364651dc38e8c6d",
            "style": "IPY_MODEL_7507769901cb4d23a72535d61d58d5c9",
            "tooltip": ""
          }
        },
        "452139bd647b43c28364651dc38e8c6d": {
          "model_module": "@jupyter-widgets/base",
          "model_name": "LayoutModel",
          "model_module_version": "1.2.0",
          "state": {
            "_model_module": "@jupyter-widgets/base",
            "_model_module_version": "1.2.0",
            "_model_name": "LayoutModel",
            "_view_count": null,
            "_view_module": "@jupyter-widgets/base",
            "_view_module_version": "1.2.0",
            "_view_name": "LayoutView",
            "align_content": null,
            "align_items": null,
            "align_self": null,
            "border": null,
            "bottom": null,
            "display": null,
            "flex": null,
            "flex_flow": null,
            "grid_area": null,
            "grid_auto_columns": null,
            "grid_auto_flow": null,
            "grid_auto_rows": null,
            "grid_column": null,
            "grid_gap": null,
            "grid_row": null,
            "grid_template_areas": null,
            "grid_template_columns": null,
            "grid_template_rows": null,
            "height": null,
            "justify_content": null,
            "justify_items": null,
            "left": null,
            "margin": null,
            "max_height": null,
            "max_width": null,
            "min_height": null,
            "min_width": null,
            "object_fit": null,
            "object_position": null,
            "order": null,
            "overflow": null,
            "overflow_x": null,
            "overflow_y": null,
            "padding": null,
            "right": null,
            "top": null,
            "visibility": null,
            "width": null
          }
        },
        "7507769901cb4d23a72535d61d58d5c9": {
          "model_module": "@jupyter-widgets/controls",
          "model_name": "ButtonStyleModel",
          "model_module_version": "1.5.0",
          "state": {
            "_model_module": "@jupyter-widgets/controls",
            "_model_module_version": "1.5.0",
            "_model_name": "ButtonStyleModel",
            "_view_count": null,
            "_view_module": "@jupyter-widgets/base",
            "_view_module_version": "1.2.0",
            "_view_name": "StyleView",
            "button_color": null,
            "font_weight": ""
          }
        },
        "5d416d75299a4b4ea9101e11204da601": {
          "model_module": "@jupyter-widgets/output",
          "model_name": "OutputModel",
          "model_module_version": "1.0.0",
          "state": {
            "_dom_classes": [],
            "_model_module": "@jupyter-widgets/output",
            "_model_module_version": "1.0.0",
            "_model_name": "OutputModel",
            "_view_count": null,
            "_view_module": "@jupyter-widgets/output",
            "_view_module_version": "1.0.0",
            "_view_name": "OutputView",
            "layout": "IPY_MODEL_f5706683d57543b8ae3424181ca86a66",
            "msg_id": "",
            "outputs": [
              {
                "output_type": "stream",
                "name": "stdout",
                "text": [
                  "Recommended Movies (SVD):\n",
                  "- Titanic (1997)\n",
                  "- To Kill a Mockingbird (1962)\n",
                  "- Fantasia (1940)\n",
                  "- Hoop Dreams (1994)\n",
                  "- Secrets & Lies (1996)\n",
                  "\n",
                  "Recommended Movies (Q-Learning):\n",
                  "- Toy Story (1995)\n",
                  "- Before the Rain (Pred dozhdot) (1994)\n",
                  "- Brady Bunch Movie, The (1995)\n",
                  "- Striking Distance (1993)\n",
                  "- Kiss of Death (1995)\n"
                ]
              }
            ]
          }
        },
        "f5706683d57543b8ae3424181ca86a66": {
          "model_module": "@jupyter-widgets/base",
          "model_name": "LayoutModel",
          "model_module_version": "1.2.0",
          "state": {
            "_model_module": "@jupyter-widgets/base",
            "_model_module_version": "1.2.0",
            "_model_name": "LayoutModel",
            "_view_count": null,
            "_view_module": "@jupyter-widgets/base",
            "_view_module_version": "1.2.0",
            "_view_name": "LayoutView",
            "align_content": null,
            "align_items": null,
            "align_self": null,
            "border": null,
            "bottom": null,
            "display": null,
            "flex": null,
            "flex_flow": null,
            "grid_area": null,
            "grid_auto_columns": null,
            "grid_auto_flow": null,
            "grid_auto_rows": null,
            "grid_column": null,
            "grid_gap": null,
            "grid_row": null,
            "grid_template_areas": null,
            "grid_template_columns": null,
            "grid_template_rows": null,
            "height": null,
            "justify_content": null,
            "justify_items": null,
            "left": null,
            "margin": null,
            "max_height": null,
            "max_width": null,
            "min_height": null,
            "min_width": null,
            "object_fit": null,
            "object_position": null,
            "order": null,
            "overflow": null,
            "overflow_x": null,
            "overflow_y": null,
            "padding": null,
            "right": null,
            "top": null,
            "visibility": null,
            "width": null
          }
        }
      }
    }
  },
  "cells": [
    {
      "cell_type": "code",
      "source": [
        "import pandas as pd\n",
        "import numpy as np\n",
        "from sklearn.decomposition import TruncatedSVD\n",
        "from sklearn.metrics import mean_squared_error\n",
        "from sklearn.model_selection import train_test_split\n",
        "import joblib\n",
        "import ipywidgets as widgets\n",
        "from IPython.display import display, clear_output"
      ],
      "metadata": {
        "id": "SJggc914mz8O"
      },
      "execution_count": 26,
      "outputs": []
    },
    {
      "cell_type": "code",
      "source": [
        "\n",
        "# Load MovieLens dataset\n",
        "url = 'http://files.grouplens.org/datasets/movielens/ml-100k/u.data'\n",
        "column_names = ['UserId', 'MovieId', 'Rating', 'Timestamp']\n",
        "data = pd.read_csv(url, sep='\\t', names=column_names)\n",
        "\n",
        "# Create the user-item rating matrix\n",
        "ratings_matrix = data.pivot_table(index='UserId', columns='MovieId', values='Rating')\n",
        "\n",
        "# Normalize the matrix by subtracting user means\n",
        "user_means = ratings_matrix.mean(axis=1)\n",
        "normalized_matrix = ratings_matrix.subtract(user_means, axis=0)\n",
        "normalized_matrix.fillna(0, inplace=True)\n",
        "\n",
        "# Apply SVD to the normalized matrix\n",
        "svd = TruncatedSVD(n_components=50) # Increased components for better accuracy\n",
        "decomposed_matrix = svd.fit_transform(normalized_matrix)\n",
        "\n",
        "# Reconstruct the ratings matrix and denormalize\n",
        "approx_ratings = svd.inverse_transform(decomposed_matrix) + user_means.values.reshape(-1, 1)\n",
        "\n",
        "\n",
        "# Function to recommend movies using SVD\n",
        "def recommend(user_id, num_recommendations=5):\n",
        "    # Use the correct ratings matrix for predictions\n",
        "    user_ratings = approx_ratings[user_id - 1]\n",
        "    # Get movies already rated by the user\n",
        "    already_rated = ratings_matrix.loc[user_id].notna()\n",
        "    # Filter out already rated movies and select top recommendations\n",
        "    top_recommendations = [i + 1 for i in np.argsort(user_ratings)[::-1] if not already_rated[i+1]][:num_recommendations]\n",
        "    return top_recommendations\n"
      ],
      "metadata": {
        "id": "96RxyRCK46Cq"
      },
      "execution_count": 27,
      "outputs": []
    },
    {
      "cell_type": "code",
      "source": [
        "# Split dataset for evaluation\n",
        "train, test = train_test_split(data, test_size=0.2, random_state=42) # Added random_state for reproducibility\n",
        "\n",
        "# Create user-item matrices for train and test, ensuring consistent columns\n",
        "train_matrix = train.pivot_table(index='UserId', columns='MovieId', values='Rating').fillna(0)\n",
        "test_matrix = test.pivot_table(index='UserId', columns='MovieId', values='Rating').fillna(0)\n",
        "\n",
        "# Align test matrix users with train matrix users\n",
        "common_users = train_matrix.index.intersection(test_matrix.index)\n",
        "train_matrix = train_matrix.loc[common_users]\n",
        "test_matrix = test_matrix.loc[common_users]\n",
        "\n",
        "# Ensure both matrices have the same columns\n",
        "all_movies = pd.concat([train_matrix, test_matrix], axis=0).columns\n",
        "train_matrix = train_matrix.reindex(columns=all_movies, fill_value=0)\n",
        "test_matrix = test_matrix.reindex(columns=all_movies, fill_value=0)\n",
        "\n",
        "\n",
        "# Evaluate RMSE\n",
        "predicted_ratings = svd.inverse_transform(svd.transform(train_matrix))\n",
        "rmse = np.sqrt(mean_squared_error(test_matrix, predicted_ratings))\n",
        "print(\"RMSE between actual and predicted ratings: \", rmse)\n"
      ],
      "metadata": {
        "colab": {
          "base_uri": "https://localhost:8080/"
        },
        "id": "12hcF1dM4osE",
        "outputId": "2efe8e0f-ee77-40ab-eec0-3f2659888ea7"
      },
      "execution_count": 28,
      "outputs": [
        {
          "output_type": "stream",
          "name": "stdout",
          "text": [
            "RMSE between actual and predicted ratings:  0.5404720665404639\n"
          ]
        }
      ]
    },
    {
      "cell_type": "code",
      "source": [
        "\n",
        "# Q-learning (Improvements: more realistic reward, better exploration)\n",
        "\n",
        "# Initialize Q-table\n",
        "num_users = len(ratings_matrix.index)\n",
        "num_items = len(ratings_matrix.columns)\n",
        "Q = np.zeros((num_users, num_items))\n",
        "\n",
        "\n",
        "# Q-learning hyperparameters (adjust these)\n",
        "alpha = 0.2  # Increased learning rate\n",
        "gamma = 0.95 # Increased discount factor\n",
        "epsilon = 0.5  # Higher initial exploration\n",
        "# Reward function based on actual rating differences\n",
        "def update_Q(user_id, movie_id, rating):\n",
        "    max_future_q = np.max(Q[user_id - 1])\n",
        "    Q[user_id - 1, movie_id - 1] += alpha * (rating + gamma * max_future_q - Q[user_id - 1, movie_id - 1])\n",
        "\n",
        "\n",
        "def simulate_user_feedback(user_id, movie_id):\n",
        "    try:\n",
        "        return ratings_matrix.loc[user_id, movie_id]\n",
        "    except KeyError:\n",
        "        return 0  # Treat unrated movies as 0 initially\n",
        "\n",
        "# Increased number of training episodes\n",
        "for episode in range(1000):\n",
        "    for user_id in range(1, num_users + 1):\n",
        "        if np.random.rand() < epsilon:\n",
        "            movie_id = np.random.choice(ratings_matrix.columns)\n",
        "        else:\n",
        "            movie_id = ratings_matrix.columns[np.argmax(Q[user_id - 1])]\n",
        "        # Handle cases where movie_id is out of bounds\n",
        "        if movie_id in ratings_matrix.columns:\n",
        "            reward = simulate_user_feedback(user_id, movie_id)\n",
        "            update_Q(user_id, movie_id, reward)\n",
        "    epsilon = max(0.01, epsilon * 0.999) # Decay epsilon slower\n"
      ],
      "metadata": {
        "id": "Qmx7b-6Q4y7Q"
      },
      "execution_count": 29,
      "outputs": []
    },
    {
      "cell_type": "code",
      "source": [
        "def evaluate_qlearning(Q, test_data, ratings_matrix):\n",
        "    \"\"\"Evaluates the performance of the Q-learning model.\n",
        "\n",
        "    Args:\n",
        "        Q: The Q-table.\n",
        "        test_data: The test dataset.\n",
        "        ratings_matrix: The user-item ratings matrix.\n",
        "\n",
        "    Returns:\n",
        "        The average reward obtained by the Q-learning agent on the test data.\n",
        "    \"\"\"\n",
        "    total_reward = 0\n",
        "    for _, row in test_data.iterrows():\n",
        "        user_id = row['UserId']\n",
        "        movie_id = row['MovieId']\n",
        "        # Use the Q-table to get the predicted rating (or reward) for the user-movie pair\n",
        "        predicted_rating = Q[user_id - 1, movie_id - 1]\n",
        "        total_reward += predicted_rating\n",
        "\n",
        "    average_reward = total_reward / len(test_data)\n",
        "    return average_reward\n",
        "\n"
      ],
      "metadata": {
        "id": "mh--oh9_4XOY"
      },
      "execution_count": 31,
      "outputs": []
    },
    {
      "cell_type": "code",
      "source": [
        "# Save Model (include necessary data)\n",
        "model_to_save = {\n",
        "    'svd': svd,\n",
        "    'Q': Q,\n",
        "    'approx_ratings': approx_ratings,\n",
        "    'ratings_matrix': ratings_matrix,\n",
        "    'user_means': user_means\n",
        "}\n",
        "joblib.dump(model_to_save, 'movie_recommendation_model.joblib')\n",
        "print(\"Model saved as movie_recommendation_model.joblib\")\n",
        "\n"
      ],
      "metadata": {
        "colab": {
          "base_uri": "https://localhost:8080/"
        },
        "id": "hnawKt3P5ZFf",
        "outputId": "d1381694-577c-4050-ff55-35303ee080f2"
      },
      "execution_count": 32,
      "outputs": [
        {
          "output_type": "stream",
          "name": "stdout",
          "text": [
            "Model saved as movie_recommendation_model.joblib\n"
          ]
        }
      ]
    },
    {
      "cell_type": "code",
      "source": [
        "# Frontend (improvements: movie title mapping, input validation)\n",
        "\n",
        "loaded_model = joblib.load('movie_recommendation_model.joblib')\n",
        "svd = loaded_model['svd']\n",
        "Q = loaded_model['Q']\n",
        "approx_ratings = loaded_model['approx_ratings']\n",
        "ratings_matrix = loaded_model['ratings_matrix']\n",
        "user_means = loaded_model['user_means']\n",
        "\n",
        "# Get movie titles from the original data\n",
        "movie_titles = pd.read_csv('http://files.grouplens.org/datasets/movielens/ml-100k/u.item', sep='|', encoding='latin-1', header=None, usecols=[0, 1])\n",
        "movie_titles.columns = ['MovieId', 'Title']\n",
        "\n",
        "user_id_input = widgets.IntText(description=\"User ID:\")\n",
        "recommend_button = widgets.Button(description=\"Get Recommendations\")\n",
        "output_area = widgets.Output()\n",
        "\n"
      ],
      "metadata": {
        "id": "RR2CeK5y5d-C"
      },
      "execution_count": 33,
      "outputs": []
    },
    {
      "cell_type": "code",
      "source": [
        "def on_recommend_button_clicked(b):\n",
        "    with output_area:\n",
        "        clear_output()\n",
        "        user_id = user_id_input.value\n",
        "        if 1 <= user_id <= len(ratings_matrix):  # Check if the user ID is valid\n",
        "            svd_recommendations = recommend(user_id, 5)\n",
        "            q_learning_recommendations = np.argsort(Q[user_id - 1])[::-1][:5]\n",
        "            print(\"Recommended Movies (SVD):\")\n",
        "            for movie_id in svd_recommendations:\n",
        "                movie_title = movie_titles[movie_titles['MovieId'] == movie_id]['Title'].values\n",
        "                if len(movie_title) > 0:  #Handle cases where movie_id is not found in movie_titles\n",
        "                    print(f\"- {movie_title[0]}\")\n",
        "                else:\n",
        "                   print(f\"- Movie ID: {movie_id} (Title not found)\")\n",
        "\n",
        "            print(\"\\nRecommended Movies (Q-Learning):\")\n",
        "            for movie_id in q_learning_recommendations:\n",
        "                movie_title = movie_titles[movie_titles['MovieId'] == movie_id + 1]['Title'].values  #Add 1 because movie ids are indexed at 1\n",
        "                if len(movie_title) > 0:\n",
        "                    print(f\"- {movie_title[0]}\")\n",
        "                else:\n",
        "                    print(f\"- Movie ID: {movie_id + 1} (Title not found)\")\n",
        "        else:\n",
        "            print(f\"Invalid User ID. Please enter a valid ID between 1 and {len(ratings_matrix)}\")\n",
        "\n"
      ],
      "metadata": {
        "id": "Q0ccCm1a5jif"
      },
      "execution_count": 34,
      "outputs": []
    },
    {
      "cell_type": "code",
      "source": [
        "recommend_button.on_click(on_recommend_button_clicked)\n",
        "display(user_id_input, recommend_button, output_area)"
      ],
      "metadata": {
        "colab": {
          "base_uri": "https://localhost:8080/",
          "height": 307,
          "referenced_widgets": [
            "643792eb3d2f4ecf85d31699ca7dc8bd",
            "af8e3096e11245d0a9abe3ba08c60e71",
            "ff0357cde012433bad5088950441a5ef",
            "1cbadc1c05ce47fda2884202c788b9c3",
            "452139bd647b43c28364651dc38e8c6d",
            "7507769901cb4d23a72535d61d58d5c9",
            "5d416d75299a4b4ea9101e11204da601",
            "f5706683d57543b8ae3424181ca86a66"
          ]
        },
        "id": "HzBg6Low5n58",
        "outputId": "69011a73-29a0-4784-8f05-924aa868ec59"
      },
      "execution_count": 35,
      "outputs": [
        {
          "output_type": "display_data",
          "data": {
            "text/plain": [
              "IntText(value=0, description='User ID:')"
            ],
            "application/vnd.jupyter.widget-view+json": {
              "version_major": 2,
              "version_minor": 0,
              "model_id": "643792eb3d2f4ecf85d31699ca7dc8bd"
            }
          },
          "metadata": {}
        },
        {
          "output_type": "display_data",
          "data": {
            "text/plain": [
              "Button(description='Get Recommendations', style=ButtonStyle())"
            ],
            "application/vnd.jupyter.widget-view+json": {
              "version_major": 2,
              "version_minor": 0,
              "model_id": "1cbadc1c05ce47fda2884202c788b9c3"
            }
          },
          "metadata": {}
        },
        {
          "output_type": "display_data",
          "data": {
            "text/plain": [
              "Output()"
            ],
            "application/vnd.jupyter.widget-view+json": {
              "version_major": 2,
              "version_minor": 0,
              "model_id": "5d416d75299a4b4ea9101e11204da601"
            }
          },
          "metadata": {}
        }
      ]
    },
    {
      "cell_type": "code",
      "source": [
        "# prompt: Why the both systems are recommending totally different movies for the same user?\n",
        "# \"Recommended Movies (SVD):\n",
        "# - Rear Window (1954)\n",
        "# - Chinatown (1974)\n",
        "# - Manchurian Candidate, The (1962)\n",
        "# - Singin' in the Rain (1952)\n",
        "# - Event Horizon (1997)\n",
        "# Recommended Movies (Q-Learning):\n",
        "# - Power 98 (1995)\n",
        "# - SubUrbia (1997)\n",
        "# - Wonderland (1997)\n",
        "# - Palmetto (1998)\n",
        "# - Midnight Dancers (Sibak) (1994)\"\n",
        "\n",
        "The discrepancy in movie recommendations between the SVD and Q-learning models stems from fundamental differences in how they operate:\n",
        "\n",
        "1. **SVD (Singular Value Decomposition):**  SVD is a collaborative filtering method. It focuses on identifying latent factors in user-item interactions.  It finds patterns in the ratings matrix to predict how a user *would* rate movies they haven't seen, based on how similar users have rated them.  SVD excels at finding movies similar to what the user has already liked, based on the broader patterns in the data.  Its recommendations are primarily driven by *similarity* in user preferences across the entire dataset.\n",
        "\n",
        "2. **Q-learning:** Q-learning is a reinforcement learning method.  Instead of directly analyzing existing ratings, it learns through simulated user interactions. The provided code simulates these interactions by randomly assigning rewards (ratings).  The quality of the Q-learning model's recommendations heavily relies on the effectiveness of this simulated feedback.  In the given code the reward function is simply assigning a random rating which doesn't provide much information to the agent.  It doesn't capture user preferences as accurately and is prone to suggesting movies that might not align with actual preferences.  The Q-learning recommendations are based on the *learned behavior* of the simulated agent which is not properly trained.\n",
        "\n",
        "**Why the difference in this case?**\n",
        "* **Poor Q-learning setup:** The provided code uses a very simple simulated reward function, which is not a good representation of true user preference.  Because of the random rewards the Q-learning model doesn't learn meaningful relationships between users and movies. The `simulate_user_feedback` function assigns a random rating rather than a more sophisticated simulation or learning function based on actual ratings.  This randomness leads to less consistent and meaningful recommendations.\n",
        "\n",
        "* **SVD leveraging existing data:** SVD, on the other hand, is leveraging the available user rating data in the MovieLens dataset.  It will find and recommend movies that match general viewing patterns from similar users.\n",
        "\n",
        "**How to improve Q-learning:**\n",
        "* **Realistic Rewards:** A much better reward function would use actual user ratings from the training data or build a more comprehensive simulation model of user preferences. The reward should reflect the genuine 'goodness' of a movie choice relative to that particular user's profile.\n",
        "* **Explore More (with Decaying Epsilon):** The `epsilon` parameter controls exploration.  While the code has epsilon decay, it might be beneficial to start with a higher `epsilon` and decay slower to ensure more exploration in the initial training phase.\n",
        "* **More Episodes:** The number of episodes used for Q-learning is relatively low. Increase the number of training episodes to allow the Q-table to better converge.\n",
        "* **More sophisticated state representation**:  Use additional information about users and movies as input into the Q-learning agent.\n",
        "\n",
        "**Key takeaway:**  SVD is making recommendations based on the collective wisdom of the entire dataset.  Q-learning needs to learn from feedback that reflects the actual user preferences in order to be more effective. As the code stands, Q-learning is not learning well due to the poor reward structure.\n"
      ],
      "metadata": {
        "id": "ZtFhdEserWWf"
      },
      "execution_count": null,
      "outputs": []
    }
  ]
}